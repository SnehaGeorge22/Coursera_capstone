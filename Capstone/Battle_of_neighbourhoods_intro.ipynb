{
 "cells": [
  {
   "cell_type": "markdown",
   "metadata": {
    "collapsed": false
   },
   "source": [
    "# Coursera Capstone Project - The Battle of Neighbourhoods"
   ]
  },
  {
   "cell_type": "markdown",
   "metadata": {
    "collapsed": false
   },
   "source": [
    "##### 1) Introduction/Business Problem — \n",
    "\n",
    "The basis of this study is to help a small group of investors planning to open their first U.S. based brewery / restaurant expansion in Chicago , Illnois. Being that Chicago is the most populated city in US , and continually ranks as an important global city based on a high quality of living, the choice to expand into the neighbor of the  market was an easy selection for the investing group. However, with limited knowledge of the Chicago market, the group of investors have selected us to assist in the selection of which areas of Chicago will facilitate a launch of their brewery / restaurant expansion."
   ]
  },
  {
   "cell_type": "markdown",
   "metadata": {
    "collapsed": false
   },
   "source": [
    "##### 2)Data \n",
    "The necessary information needed by the investing group will come from the following sources:\n",
    "\n",
    "###### Geographic boundaries of Chicago - For providing an overview of the neighbourhood in Chicago\n",
    "https://data.cityofchicago.org/Facilities-Geographic-Boundaries/Boundaries-Community-Areas-current-/cauq-8yn6 \n",
    "\n",
    "###### Wikipedia - about the list of neighborhoods in chicago:\n",
    "https://en.wikipedia.org/wiki/List_of_neighborhoods_in_Chicago\n",
    "\n",
    "###### \n",
    "https://public.opendatasoft.com/explore/dataset/us-zip-code-latitude-and-longitude/export/?refine.state=IL :\n",
    "\n",
    "Open dataset to provide the latitude and longitude of the neighbourhoods in the state of Illnois.\n",
    "\n",
    "Foursquare API to collect information on other venues/competitors in the neighborhoods of Toronto\n"
   ]
  },
  {
   "cell_type": "code",
   "execution_count": 0,
   "metadata": {
    "collapsed": false
   },
   "outputs": [
   ],
   "source": [
   ]
  }
 ],
 "metadata": {
  "kernelspec": {
   "display_name": "Python 3 (system-wide)",
   "language": "python",
   "metadata": {
    "cocalc": {
     "description": "Python 3 programming language",
     "priority": 100,
     "url": "https://www.python.org/"
    }
   },
   "name": "python3"
  },
  "language_info": {
   "codemirror_mode": {
    "name": "ipython",
    "version": 3
   },
   "file_extension": ".py",
   "mimetype": "text/x-python",
   "name": "python",
   "nbconvert_exporter": "python",
   "pygments_lexer": "ipython3",
   "version": "3.6.9"
  }
 },
 "nbformat": 4,
 "nbformat_minor": 0
}